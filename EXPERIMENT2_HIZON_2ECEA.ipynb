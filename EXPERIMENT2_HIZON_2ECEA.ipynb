{
 "cells": [
  {
   "cell_type": "markdown",
   "id": "96772b9d-3ef1-4320-8154-1d0d0da59d4e",
   "metadata": {},
   "source": [
    "## EXPERIMENT #2: Numerical Python (Numpy)\n",
    "--------------------------------------------------------\n",
    "## Name: Kyle Adrienne S. Hizon\n",
    "## Section: 2ECEA\n",
    "--------------------------------------------------------"
   ]
  },
  {
   "cell_type": "markdown",
   "id": "ac2807c1-be38-441b-ba2a-fceb17f265ee",
   "metadata": {},
   "source": [
    "## PROBLEM 1: NORMALIZATION PROBLEM"
   ]
  },
  {
   "cell_type": "code",
   "execution_count": 10,
   "id": "11fed8f3-040b-4852-ae24-6b882a438a8d",
   "metadata": {},
   "outputs": [
    {
     "name": "stdout",
     "output_type": "stream",
     "text": [
      "The matrix is \n",
      "\n",
      " [[0.30273642 0.21393241 0.67220028 0.8201985  0.12705501]\n",
      " [0.53437885 0.13730257 0.16962921 0.32730167 0.46039361]\n",
      " [0.43416855 0.97528716 0.51392381 0.8106153  0.19121904]\n",
      " [0.5558197  0.03775629 0.15184122 0.71103785 0.91984313]\n",
      " [0.54001761 0.19900337 0.86494657 0.69476599 0.15968623]] \n",
      "\n",
      "The mean for overall matrix is 0.46100241350605986 \n",
      "The standard deviation for the matrix is 0.282 \n",
      "Therefore, the normalized matrix is\n",
      "\n",
      " [[-0.56131779 -0.87627662  0.74904987  1.27395121 -1.18440238]\n",
      " [ 0.26024224 -1.14805763 -1.0334056  -0.47419289 -0.00215924]\n",
      " [-0.09517095  1.82400002  0.18769491  1.23996272 -0.95683352]\n",
      " [ 0.33628594 -1.50111577 -1.09649377  0.88679405  1.62735816]\n",
      " [ 0.2802411  -0.92922505  1.432658    0.82908305 -1.06867008]]\n"
     ]
    }
   ],
   "source": [
    "import numpy as np\n",
    "\n",
    "# Creating a 5x5 array matrix inside a variable X with random numbers\n",
    "X = np.random.random((5,5))\n",
    "\n",
    "# Creating a Normalization function that normalizes an array based on their mean and standard deviation in the formula of: (array - mean)/(std)\n",
    "def Normalization(matrix):\n",
    "    normal = (matrix - np.mean(matrix))/np.std(matrix)\n",
    "    return normal\n",
    "    \n",
    "# Saving the value of the Normalization function as npy\n",
    "np.save(\"X_normalized.npy\",Normalization(X))\n",
    "\n",
    "# Putting the loaded npy file inside the norm_matrix variable\n",
    "norm_matrix = np.load(\"X_normalized.npy\")\n",
    "\n",
    "# Rounding off the standard deviation into 4 decimal places\n",
    "rounded_std = round(np.std(X),4)\n",
    "\n",
    "# Printing the informations: This will print the 5x5 matrix itself, the mean, the standard deviation, and the loaded npy file called \"normalized_matrix.npy\"\n",
    "print(\"The matrix is \\n\\n\",X,\"\\n\\nThe mean for overall matrix is\",np.mean(X),\"\\nThe standard deviation for the matrix is\",rounded_std,\"\\nTherefore, the normalized matrix is\\n\\n\",norm_matrix)"
   ]
  },
  {
   "cell_type": "code",
   "execution_count": 8,
   "id": "1152b0be-05a3-4197-b2c4-497ad4849503",
   "metadata": {},
   "outputs": [
    {
     "name": "stdout",
     "output_type": "stream",
     "text": [
      "Matrix\n",
      "\n",
      " [[0.23211198 0.8564812  0.12970795 0.1744781  0.57611364]\n",
      " [0.83245778 0.20336445 0.02924414 0.71028613 0.61688976]\n",
      " [0.7153116  0.60903051 0.22900658 0.6147108  0.41932923]\n",
      " [0.7616566  0.95237452 0.50235981 0.31410839 0.01930635]\n",
      " [0.18029433 0.52494405 0.19380245 0.57982499 0.43250224]] \n",
      "\n",
      "Normalized Matrix\n",
      "\n",
      " [[-0.84150631  1.50119118 -1.22573677 -1.05775454  0.44922326]\n",
      " [ 1.41105283 -0.94937001 -1.60268731  0.95265222  0.60221947]\n",
      " [ 0.97150833  0.57273074 -0.85315809  0.59404378 -0.13904796]\n",
      " [ 1.14539951  1.86099276  0.17249132 -0.53384734 -1.63997491]\n",
      " [-1.03593145  0.25722972 -0.98524762  0.46314865 -0.08962148]]\n"
     ]
    }
   ],
   "source": [
    "# Here's more example to prove that the matrix is randomized\n",
    "\n",
    "print(\"Matrix\\n\\n\",X,\"\\n\\nNormalized Matrix\\n\\n\",Normalization(X))"
   ]
  },
  {
   "cell_type": "markdown",
   "id": "7db13c3f-7fe0-4434-bff6-22c2c13aa38c",
   "metadata": {},
   "source": [
    "## PROBLEM 2: DIVISIBLE BY 3 PROBLEM"
   ]
  },
  {
   "cell_type": "code",
   "execution_count": 4,
   "id": "ca586448-ba93-4469-8546-096a05760bbe",
   "metadata": {},
   "outputs": [
    {
     "name": "stdout",
     "output_type": "stream",
     "text": [
      "The 10x10 matrix with all squared values from 1-100 is\n",
      "\n",
      " [[    1     4     9    16    25    36    49    64    81   100]\n",
      " [  121   144   169   196   225   256   289   324   361   400]\n",
      " [  441   484   529   576   625   676   729   784   841   900]\n",
      " [  961  1024  1089  1156  1225  1296  1369  1444  1521  1600]\n",
      " [ 1681  1764  1849  1936  2025  2116  2209  2304  2401  2500]\n",
      " [ 2601  2704  2809  2916  3025  3136  3249  3364  3481  3600]\n",
      " [ 3721  3844  3969  4096  4225  4356  4489  4624  4761  4900]\n",
      " [ 5041  5184  5329  5476  5625  5776  5929  6084  6241  6400]\n",
      " [ 6561  6724  6889  7056  7225  7396  7569  7744  7921  8100]\n",
      " [ 8281  8464  8649  8836  9025  9216  9409  9604  9801 10000]] \n",
      "\n",
      "The following numbers that are divisible by 3 are\n",
      "\n",
      " [   9   36   81  144  225  324  441  576  729  900 1089 1296 1521 1764\n",
      " 2025 2304 2601 2916 3249 3600 3969 4356 4761 5184 5625 6084 6561 7056\n",
      " 7569 8100 8649 9216 9801]\n"
     ]
    }
   ],
   "source": [
    "import numpy as np\n",
    "\n",
    "# Create a matrix ranging from 1-100 that are squared\n",
    "matrix = np.arange(1,101,1)**2\n",
    "\n",
    "# Reshape the matrix into 10x10\n",
    "matrix = matrix.reshape(10,10)\n",
    "\n",
    "# Create a function that will get the all indices of the matrix that are divisible by 3\n",
    "def divisibility_by_3(array):\n",
    "    array = array[array%3 == 0]\n",
    "    return array\n",
    "\n",
    "# Saving the value of the divisibility_by_3 function as np\n",
    "np.save(\"div_by_3.npy\",divisibility_by_3(matrix))\n",
    "\n",
    "# Putting the loaded npy file inside the div3_matrix variable\n",
    "div3_matrix = np.load(\"div_by_3.npy\")\n",
    "\n",
    "# Printing the information: This will print the 10x10 matrix itself and the list of numbers that are divisible by 3\n",
    "print(\"The 10x10 matrix with all squared values from 1-100 is\\n\\n\",matrix,\"\\n\\nThe following numbers that are divisible by 3 are\\n\\n\",div3_matrix)"
   ]
  }
 ],
 "metadata": {
  "kernelspec": {
   "display_name": "Python 3 (ipykernel)",
   "language": "python",
   "name": "python3"
  },
  "language_info": {
   "codemirror_mode": {
    "name": "ipython",
    "version": 3
   },
   "file_extension": ".py",
   "mimetype": "text/x-python",
   "name": "python",
   "nbconvert_exporter": "python",
   "pygments_lexer": "ipython3",
   "version": "3.12.4"
  }
 },
 "nbformat": 4,
 "nbformat_minor": 5
}
