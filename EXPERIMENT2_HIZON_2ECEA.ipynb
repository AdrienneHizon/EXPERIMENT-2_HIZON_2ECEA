{
 "cells": [
  {
   "cell_type": "markdown",
   "id": "96772b9d-3ef1-4320-8154-1d0d0da59d4e",
   "metadata": {},
   "source": [
    "## EXPERIMENT #2: Numerical Python (Numpy)\n",
    "--------------------------------------------------------\n",
    "## Name: Kyle Adrienne S. Hizon\n",
    "## Section: 2ECEA\n",
    "--------------------------------------------------------"
   ]
  },
  {
   "cell_type": "markdown",
   "id": "ac2807c1-be38-441b-ba2a-fceb17f265ee",
   "metadata": {},
   "source": [
    "## PROBLEM 1: NORMALIZATION PROBLEM"
   ]
  },
  {
   "cell_type": "code",
   "execution_count": 2,
   "id": "11fed8f3-040b-4852-ae24-6b882a438a8d",
   "metadata": {},
   "outputs": [
    {
     "name": "stdout",
     "output_type": "stream",
     "text": [
      "The matrix is \n",
      "\n",
      " [[0.12727691 0.96357742 0.17693471 0.04402563 0.5431986 ]\n",
      " [0.43188394 0.17488709 0.92093574 0.76069611 0.4520716 ]\n",
      " [0.77795728 0.4595989  0.99043148 0.25241733 0.65775235]\n",
      " [0.79686031 0.2680898  0.66635575 0.78671765 0.5571825 ]\n",
      " [0.85520414 0.01308046 0.52179864 0.67823116 0.44660591]] \n",
      "\n",
      "The mean for overall matrix is 0.5329508568863202 \n",
      "The standard deviation for the matrix is 0.2869 \n",
      "Therefore, the normalized matrix is\n",
      "\n",
      " [[-1.41404643  1.50102307 -1.2409556  -1.7042331   0.03572028]\n",
      " [-0.35228614 -1.24809293  1.35238816  0.79384532 -0.28191857]\n",
      " [ 0.85401207 -0.2556809   1.59462751 -0.97784792  0.43501711]\n",
      " [ 0.91990184 -0.92321884  0.46500572  0.88454786  0.08446358]\n",
      " [ 1.12326933 -1.81209781 -0.03887297  0.50639953 -0.30097019]]\n"
     ]
    }
   ],
   "source": [
    "import numpy as np\n",
    "\n",
    "# Creating a 5x5 array matrix inside a variable X with random numbers\n",
    "X = np.random.random((5,5))\n",
    "\n",
    "# Creating a Normalization function that normalizes an array based on their mean and standard deviation in the formula of: (array - mean)/(std)\n",
    "def Normalization(matrix):\n",
    "    normal = (matrix - np.mean(matrix))/np.std(matrix)\n",
    "    return normal\n",
    "    \n",
    "# Saving the value of the Normalization function as npy\n",
    "np.save(\"X_normalized.npy\",Normalization(X))\n",
    "\n",
    "# Putting the loaded npy file inside the norm_matrix variable\n",
    "norm_matrix = np.load(\"X_normalized.npy\")\n",
    "\n",
    "# Rounding off the standard deviation into 4 decimal places\n",
    "rounded_std = round(np.std(X),4)\n",
    "\n",
    "# Printing the informations: This will print the 5x5 matrix itself, the mean, the standard deviation, and the loaded npy file called \"normalized_matrix.npy\"\n",
    "print(\"The matrix is \\n\\n\",X,\"\\n\\nThe mean for overall matrix is\",np.mean(X),\"\\nThe standard deviation for the matrix is\",rounded_std,\"\\nTherefore, the normalized matrix is\\n\\n\",norm_matrix)"
   ]
  },
  {
   "cell_type": "markdown",
   "id": "7db13c3f-7fe0-4434-bff6-22c2c13aa38c",
   "metadata": {},
   "source": [
    "## PROBLEM 2: DIVISIBLE BY 3 PROBLEM"
   ]
  },
  {
   "cell_type": "code",
   "execution_count": 4,
   "id": "ca586448-ba93-4469-8546-096a05760bbe",
   "metadata": {},
   "outputs": [
    {
     "name": "stdout",
     "output_type": "stream",
     "text": [
      "The 10x10 matrix with all squared values from 1-100 is\n",
      "\n",
      " [[    1     4     9    16    25    36    49    64    81   100]\n",
      " [  121   144   169   196   225   256   289   324   361   400]\n",
      " [  441   484   529   576   625   676   729   784   841   900]\n",
      " [  961  1024  1089  1156  1225  1296  1369  1444  1521  1600]\n",
      " [ 1681  1764  1849  1936  2025  2116  2209  2304  2401  2500]\n",
      " [ 2601  2704  2809  2916  3025  3136  3249  3364  3481  3600]\n",
      " [ 3721  3844  3969  4096  4225  4356  4489  4624  4761  4900]\n",
      " [ 5041  5184  5329  5476  5625  5776  5929  6084  6241  6400]\n",
      " [ 6561  6724  6889  7056  7225  7396  7569  7744  7921  8100]\n",
      " [ 8281  8464  8649  8836  9025  9216  9409  9604  9801 10000]] \n",
      "\n",
      "The following numbers that are divisible by 3 are\n",
      "\n",
      " [   9   36   81  144  225  324  441  576  729  900 1089 1296 1521 1764\n",
      " 2025 2304 2601 2916 3249 3600 3969 4356 4761 5184 5625 6084 6561 7056\n",
      " 7569 8100 8649 9216 9801]\n"
     ]
    }
   ],
   "source": [
    "import numpy as np\n",
    "\n",
    "# Create a matrix ranging from 1-100 that are squared\n",
    "matrix = np.arange(1,101,1)**2\n",
    "\n",
    "# Reshape the matrix into 10x10\n",
    "matrix = matrix.reshape(10,10)\n",
    "\n",
    "# Create a function that will get the all indices of the matrix that are divisible by 3\n",
    "def divisibility_by_3(array):\n",
    "    array = array[array%3 == 0]\n",
    "    return array\n",
    "\n",
    "# Saving the value of the divisibility_by_3 function as np\n",
    "np.save(\"div_by_3.npy\",divisibility_by_3(matrix))\n",
    "\n",
    "# Putting the loaded npy file inside the div3_matrix variable\n",
    "div3_matrix = np.load(\"div_by_3.npy\")\n",
    "\n",
    "# Printing the information: This will print the 10x10 matrix itself and the list of numbers that are divisible by 3\n",
    "print(\"The 10x10 matrix with all squared values from 1-100 is\\n\\n\",matrix,\"\\n\\nThe following numbers that are divisible by 3 are\\n\\n\",div3_matrix)"
   ]
  }
 ],
 "metadata": {
  "kernelspec": {
   "display_name": "Python 3 (ipykernel)",
   "language": "python",
   "name": "python3"
  },
  "language_info": {
   "codemirror_mode": {
    "name": "ipython",
    "version": 3
   },
   "file_extension": ".py",
   "mimetype": "text/x-python",
   "name": "python",
   "nbconvert_exporter": "python",
   "pygments_lexer": "ipython3",
   "version": "3.12.4"
  }
 },
 "nbformat": 4,
 "nbformat_minor": 5
}
